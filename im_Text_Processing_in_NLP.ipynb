{
  "cells": [
    {
      "cell_type": "markdown",
      "metadata": {
        "id": "view-in-github",
        "colab_type": "text"
      },
      "source": [
        "<a href=\"https://colab.research.google.com/github/vigneshpatel14/NLP/blob/main/im_Text_Processing_in_NLP.ipynb\" target=\"_parent\"><img src=\"https://colab.research.google.com/assets/colab-badge.svg\" alt=\"Open In Colab\"/></a>"
      ]
    },
    {
      "cell_type": "markdown",
      "metadata": {
        "id": "XbfeYqCSJFm5"
      },
      "source": [
        "Suppose, We're in a situation to create a Sentiment analysis model, we have the dataset available but the problem here is machine will not going to understand the sentences of any languages, we have to clean those dataset by using stopwords, deleting punctuation and many more irrelevant things inside the data and We have to make it upto that level where we can feed those data to our machine or deep learning algorithms from that we can get some output with it.\n",
        "\n",
        "We are assuming you have a knowledge of Python, and if not, nothing to worry, we will give you some overview of it.\n",
        "\n",
        "## 1.Python String\n",
        "\n",
        "A String is like a sequence of Characters.\n",
        "\n",
        "A character is just a symbol.Like, the English language has 26 characters.\n",
        "\n",
        "Computers don't deal with characters,they deal with binary(numbers) only. Even though you seen characters but internally it is stored and manipulated with the combination of 0's and 1's.\n",
        "The conversion of character to a number is known as encoding, and the reverse is decoding.\n",
        "\n",
        "String literally surrounded by a single or double quotations like:"
      ]
    },
    {
      "cell_type": "code",
      "execution_count": null,
      "metadata": {
        "colab": {
          "base_uri": "https://localhost:8080/"
        },
        "id": "lqH5og0gJFm8",
        "outputId": "c1ac72c3-4042-4080-8b03-cf28a7ebcf0e"
      },
      "outputs": [
        {
          "output_type": "stream",
          "name": "stdout",
          "text": [
            "PwSkills\n"
          ]
        }
      ],
      "source": [
        "a = \"PwSkills\"\n",
        "print(a)"
      ]
    },
    {
      "cell_type": "code",
      "source": [
        "type(a)"
      ],
      "metadata": {
        "colab": {
          "base_uri": "https://localhost:8080/"
        },
        "id": "F2bMgLFBXDGY",
        "outputId": "a55b1ed7-1009-47de-c46f-121bb883ec10"
      },
      "execution_count": null,
      "outputs": [
        {
          "output_type": "execute_result",
          "data": {
            "text/plain": [
              "str"
            ]
          },
          "metadata": {},
          "execution_count": 2
        }
      ]
    },
    {
      "cell_type": "markdown",
      "metadata": {
        "id": "1RCXneoOJFnJ"
      },
      "source": [
        "### Strings are arrays\n",
        "\n",
        "Like in other popular programming languages, strings in Python are arrays of bytes represents unicode characters.\n",
        "\n",
        "However, Python doesn't have the character as the datatype, single character is just simply a string with length of 1.\n",
        "\n",
        "We used square bracket to access elements from the string."
      ]
    },
    {
      "cell_type": "code",
      "execution_count": null,
      "metadata": {
        "colab": {
          "base_uri": "https://localhost:8080/"
        },
        "id": "gNB6lImmJFnK",
        "outputId": "93358856-8b9a-470c-f795-771919f754c7"
      },
      "outputs": [
        {
          "output_type": "stream",
          "name": "stdout",
          "text": [
            "k\n"
          ]
        }
      ],
      "source": [
        "#Get the character at position 4(Here, indexing starts from 0)\n",
        "a = \"PwSkills\"\n",
        "print(a[3])"
      ]
    },
    {
      "cell_type": "markdown",
      "metadata": {
        "id": "Dfs-JIeSJFnS"
      },
      "source": [
        "### Slicing\n",
        "\n",
        "You can get the output upto certain range of characters by using the slicing index.\n",
        "\n",
        "Specify the start index and end index, which is separated by colon, to return a part of the string."
      ]
    },
    {
      "cell_type": "code",
      "execution_count": null,
      "metadata": {
        "id": "I6T0u262JFnT",
        "outputId": "4c2c46f3-15d8-4fa4-f101-6d23dc949478",
        "colab": {
          "base_uri": "https://localhost:8080/"
        }
      },
      "outputs": [
        {
          "output_type": "stream",
          "name": "stdout",
          "text": [
            "kil\n",
            "--------------------------------------------------\n",
            "Skil\n",
            "--------------------------------------------------\n",
            "Si\n"
          ]
        }
      ],
      "source": [
        "#To get the output from the position 3 to 6(not included)\n",
        "a = \"PwSkills\"\n",
        "print(a[3:6])\n",
        "print(\"-\" * 50)\n",
        "#To get the output by negative indexing from -6 position to -2 position.\n",
        "print(a[-6:-2])\n",
        "print(\"-\" * 50)\n",
        "#Get the results from position 2 to 6 but give result with the increment of 2.\n",
        "print(a[2:6:2])"
      ]
    },
    {
      "cell_type": "markdown",
      "metadata": {
        "id": "JHou4XVkJFnc"
      },
      "source": [
        "### String Methods\n",
        "\n",
        "Python have set of built-in methods that you can use on strings."
      ]
    },
    {
      "cell_type": "code",
      "execution_count": null,
      "metadata": {
        "colab": {
          "base_uri": "https://localhost:8080/"
        },
        "id": "AaM_dDq7JFnd",
        "outputId": "a3bbd9b0-597d-4aab-9a9f-1207c7987795"
      },
      "outputs": [
        {
          "output_type": "stream",
          "name": "stdout",
          "text": [
            "['PwSkills']\n"
          ]
        }
      ],
      "source": [
        "#strip() will remove whitespace in the string from begining to the end.\n",
        "a = \" PwSkills \"\n",
        "print(a.split())"
      ]
    },
    {
      "cell_type": "code",
      "execution_count": null,
      "metadata": {
        "colab": {
          "base_uri": "https://localhost:8080/"
        },
        "id": "YiVPNNB2JFnm",
        "outputId": "ce167cf9-da00-4099-e5b4-2f7a29bdc57f"
      },
      "outputs": [
        {
          "output_type": "stream",
          "name": "stdout",
          "text": [
            "pwskills\n",
            "PWSKILLS\n"
          ]
        }
      ],
      "source": [
        "#lower() will lowercase the words which are upper in the sentences.\n",
        "a = \"PwSkills\"\n",
        "print(a.lower())\n",
        "\n",
        "#upper() will transform lowercase into upper.\n",
        "print(a.upper())"
      ]
    },
    {
      "cell_type": "code",
      "execution_count": null,
      "metadata": {
        "colab": {
          "base_uri": "https://localhost:8080/"
        },
        "id": "JxWGgRs6JFnv",
        "outputId": "f7736d4e-350c-4cc9-ef97-4885bf785b16"
      },
      "outputs": [
        {
          "output_type": "stream",
          "name": "stdout",
          "text": [
            "PwSkmells\n"
          ]
        }
      ],
      "source": [
        "#replace() will work like replace one string with another string.\n",
        "a = \"PwSkills\"\n",
        "print(a.replace(\"i\", \"me\"))"
      ]
    },
    {
      "cell_type": "code",
      "execution_count": null,
      "metadata": {
        "colab": {
          "base_uri": "https://localhost:8080/"
        },
        "id": "p11MMZuUJFn4",
        "outputId": "346413eb-0e5d-40bf-b853-78cf63fce163"
      },
      "outputs": [
        {
          "output_type": "stream",
          "name": "stdout",
          "text": [
            "['PwSk', 'lls']\n"
          ]
        }
      ],
      "source": [
        "#split() will split the strings into substrings if it finds any instances of seprator.\n",
        "a = \"PwSkills\"\n",
        "print(a.split(\"i\"))"
      ]
    },
    {
      "cell_type": "markdown",
      "metadata": {
        "id": "N3xSmTR6JFoA"
      },
      "source": [
        "### String Concatenation\n",
        "\n",
        "To concatenate or combine two strings by use of + operator."
      ]
    },
    {
      "cell_type": "code",
      "execution_count": null,
      "metadata": {
        "colab": {
          "base_uri": "https://localhost:8080/"
        },
        "id": "s_olPIBHJFoB",
        "outputId": "e14336ee-655c-4590-9412-9eac3a2d36dc"
      },
      "outputs": [
        {
          "output_type": "stream",
          "name": "stdout",
          "text": [
            "PwSkills Data\n"
          ]
        }
      ],
      "source": [
        "a = \"PwSkills\"\n",
        "b = \"Data\"\n",
        "print(a +\" \"+ b)"
      ]
    },
    {
      "cell_type": "markdown",
      "metadata": {
        "id": "E4ncmQyZJFoI"
      },
      "source": [
        "## Import text\n",
        "\n",
        "In NLP your dataset would be in .txt, .csv type of format, you need to import it and try to clean the irrelevant datas from the dataset.Here we'll going to understand Python file handling:create,open,read,append,write.\n",
        "\n",
        "### Create a text file\n",
        "With the use of python you can create the text files by using code,we have demostrated here how you can do this."
      ]
    },
    {
      "cell_type": "markdown",
      "source": [
        "Please download this txt file(PwSkills.txt) from here: https://drive.google.com/file/d/1ETq2baHdMsWVe_lrF9Ts3C5yRFc5iMbI/view?usp=sharing"
      ],
      "metadata": {
        "id": "eagTLp9Sp9v5"
      }
    },
    {
      "cell_type": "code",
      "execution_count": null,
      "metadata": {
        "colab": {
          "base_uri": "https://localhost:8080/",
          "height": 73
        },
        "id": "SBkimiN0JFoK",
        "outputId": "14252b47-8466-4758-8df2-9d4876d1671a"
      },
      "outputs": [
        {
          "output_type": "display_data",
          "data": {
            "text/plain": [
              "<IPython.core.display.HTML object>"
            ],
            "text/html": [
              "\n",
              "     <input type=\"file\" id=\"files-88f91644-9078-43b8-b0ff-a1a58ed18ca9\" name=\"files[]\" multiple disabled\n",
              "        style=\"border:none\" />\n",
              "     <output id=\"result-88f91644-9078-43b8-b0ff-a1a58ed18ca9\">\n",
              "      Upload widget is only available when the cell has been executed in the\n",
              "      current browser session. Please rerun this cell to enable.\n",
              "      </output>\n",
              "      <script>// Copyright 2017 Google LLC\n",
              "//\n",
              "// Licensed under the Apache License, Version 2.0 (the \"License\");\n",
              "// you may not use this file except in compliance with the License.\n",
              "// You may obtain a copy of the License at\n",
              "//\n",
              "//      http://www.apache.org/licenses/LICENSE-2.0\n",
              "//\n",
              "// Unless required by applicable law or agreed to in writing, software\n",
              "// distributed under the License is distributed on an \"AS IS\" BASIS,\n",
              "// WITHOUT WARRANTIES OR CONDITIONS OF ANY KIND, either express or implied.\n",
              "// See the License for the specific language governing permissions and\n",
              "// limitations under the License.\n",
              "\n",
              "/**\n",
              " * @fileoverview Helpers for google.colab Python module.\n",
              " */\n",
              "(function(scope) {\n",
              "function span(text, styleAttributes = {}) {\n",
              "  const element = document.createElement('span');\n",
              "  element.textContent = text;\n",
              "  for (const key of Object.keys(styleAttributes)) {\n",
              "    element.style[key] = styleAttributes[key];\n",
              "  }\n",
              "  return element;\n",
              "}\n",
              "\n",
              "// Max number of bytes which will be uploaded at a time.\n",
              "const MAX_PAYLOAD_SIZE = 100 * 1024;\n",
              "\n",
              "function _uploadFiles(inputId, outputId) {\n",
              "  const steps = uploadFilesStep(inputId, outputId);\n",
              "  const outputElement = document.getElementById(outputId);\n",
              "  // Cache steps on the outputElement to make it available for the next call\n",
              "  // to uploadFilesContinue from Python.\n",
              "  outputElement.steps = steps;\n",
              "\n",
              "  return _uploadFilesContinue(outputId);\n",
              "}\n",
              "\n",
              "// This is roughly an async generator (not supported in the browser yet),\n",
              "// where there are multiple asynchronous steps and the Python side is going\n",
              "// to poll for completion of each step.\n",
              "// This uses a Promise to block the python side on completion of each step,\n",
              "// then passes the result of the previous step as the input to the next step.\n",
              "function _uploadFilesContinue(outputId) {\n",
              "  const outputElement = document.getElementById(outputId);\n",
              "  const steps = outputElement.steps;\n",
              "\n",
              "  const next = steps.next(outputElement.lastPromiseValue);\n",
              "  return Promise.resolve(next.value.promise).then((value) => {\n",
              "    // Cache the last promise value to make it available to the next\n",
              "    // step of the generator.\n",
              "    outputElement.lastPromiseValue = value;\n",
              "    return next.value.response;\n",
              "  });\n",
              "}\n",
              "\n",
              "/**\n",
              " * Generator function which is called between each async step of the upload\n",
              " * process.\n",
              " * @param {string} inputId Element ID of the input file picker element.\n",
              " * @param {string} outputId Element ID of the output display.\n",
              " * @return {!Iterable<!Object>} Iterable of next steps.\n",
              " */\n",
              "function* uploadFilesStep(inputId, outputId) {\n",
              "  const inputElement = document.getElementById(inputId);\n",
              "  inputElement.disabled = false;\n",
              "\n",
              "  const outputElement = document.getElementById(outputId);\n",
              "  outputElement.innerHTML = '';\n",
              "\n",
              "  const pickedPromise = new Promise((resolve) => {\n",
              "    inputElement.addEventListener('change', (e) => {\n",
              "      resolve(e.target.files);\n",
              "    });\n",
              "  });\n",
              "\n",
              "  const cancel = document.createElement('button');\n",
              "  inputElement.parentElement.appendChild(cancel);\n",
              "  cancel.textContent = 'Cancel upload';\n",
              "  const cancelPromise = new Promise((resolve) => {\n",
              "    cancel.onclick = () => {\n",
              "      resolve(null);\n",
              "    };\n",
              "  });\n",
              "\n",
              "  // Wait for the user to pick the files.\n",
              "  const files = yield {\n",
              "    promise: Promise.race([pickedPromise, cancelPromise]),\n",
              "    response: {\n",
              "      action: 'starting',\n",
              "    }\n",
              "  };\n",
              "\n",
              "  cancel.remove();\n",
              "\n",
              "  // Disable the input element since further picks are not allowed.\n",
              "  inputElement.disabled = true;\n",
              "\n",
              "  if (!files) {\n",
              "    return {\n",
              "      response: {\n",
              "        action: 'complete',\n",
              "      }\n",
              "    };\n",
              "  }\n",
              "\n",
              "  for (const file of files) {\n",
              "    const li = document.createElement('li');\n",
              "    li.append(span(file.name, {fontWeight: 'bold'}));\n",
              "    li.append(span(\n",
              "        `(${file.type || 'n/a'}) - ${file.size} bytes, ` +\n",
              "        `last modified: ${\n",
              "            file.lastModifiedDate ? file.lastModifiedDate.toLocaleDateString() :\n",
              "                                    'n/a'} - `));\n",
              "    const percent = span('0% done');\n",
              "    li.appendChild(percent);\n",
              "\n",
              "    outputElement.appendChild(li);\n",
              "\n",
              "    const fileDataPromise = new Promise((resolve) => {\n",
              "      const reader = new FileReader();\n",
              "      reader.onload = (e) => {\n",
              "        resolve(e.target.result);\n",
              "      };\n",
              "      reader.readAsArrayBuffer(file);\n",
              "    });\n",
              "    // Wait for the data to be ready.\n",
              "    let fileData = yield {\n",
              "      promise: fileDataPromise,\n",
              "      response: {\n",
              "        action: 'continue',\n",
              "      }\n",
              "    };\n",
              "\n",
              "    // Use a chunked sending to avoid message size limits. See b/62115660.\n",
              "    let position = 0;\n",
              "    do {\n",
              "      const length = Math.min(fileData.byteLength - position, MAX_PAYLOAD_SIZE);\n",
              "      const chunk = new Uint8Array(fileData, position, length);\n",
              "      position += length;\n",
              "\n",
              "      const base64 = btoa(String.fromCharCode.apply(null, chunk));\n",
              "      yield {\n",
              "        response: {\n",
              "          action: 'append',\n",
              "          file: file.name,\n",
              "          data: base64,\n",
              "        },\n",
              "      };\n",
              "\n",
              "      let percentDone = fileData.byteLength === 0 ?\n",
              "          100 :\n",
              "          Math.round((position / fileData.byteLength) * 100);\n",
              "      percent.textContent = `${percentDone}% done`;\n",
              "\n",
              "    } while (position < fileData.byteLength);\n",
              "  }\n",
              "\n",
              "  // All done.\n",
              "  yield {\n",
              "    response: {\n",
              "      action: 'complete',\n",
              "    }\n",
              "  };\n",
              "}\n",
              "\n",
              "scope.google = scope.google || {};\n",
              "scope.google.colab = scope.google.colab || {};\n",
              "scope.google.colab._files = {\n",
              "  _uploadFiles,\n",
              "  _uploadFilesContinue,\n",
              "};\n",
              "})(self);\n",
              "</script> "
            ]
          },
          "metadata": {}
        },
        {
          "output_type": "stream",
          "name": "stdout",
          "text": [
            "Saving PwSkils.txt to PwSkils.txt\n"
          ]
        }
      ],
      "source": [
        "#Step1\n",
        "from google.colab import files\n",
        "files.upload()\n",
        "file = open(\"PwSkills.txt\", \"w+\")"
      ]
    },
    {
      "cell_type": "markdown",
      "metadata": {
        "id": "sB8I0qJZJFoQ"
      },
      "source": [
        "- Here we declared file as a variable to open a file named PwSkills.txt.Open takes two arguemnets, first one is for the file we want to open and second one represents some kind of permissions or operation we want to do into that file.\n",
        "- Here we taken \"w\" letter as an arguemnt, which indicates write and will create a file if it is not exist in the library.\n",
        "- That \"+\" signs indicate both read and write.\n",
        "- The other option beside \"w\" are, \"r\" for read, and \"a\" for append."
      ]
    },
    {
      "cell_type": "code",
      "execution_count": null,
      "metadata": {
        "id": "hMV1s2uJJFoR"
      },
      "outputs": [],
      "source": [
        "#Step2\n",
        "\n",
        "for i in range(5):\n",
        "    file.write(\"Line number is %d\\r\\n\" % (i+1))"
      ]
    },
    {
      "cell_type": "markdown",
      "metadata": {
        "id": "WQLPAlufJFoY"
      },
      "source": [
        "- We have a loop that runs over a range of 5 numbers.\n",
        "- Here using the **Write** function for entering data into the file.\n",
        "- The Output we want to iterate in the file is \"Line number is\", which we already declared with write function and then percent d(display integers)"
      ]
    },
    {
      "cell_type": "code",
      "execution_count": null,
      "metadata": {
        "id": "5QrhUv6UJFoZ"
      },
      "outputs": [],
      "source": [
        "#Step3\n",
        "\n",
        "file.close()"
      ]
    },
    {
      "cell_type": "markdown",
      "metadata": {
        "id": "9hORzMbhJFoe"
      },
      "source": [
        "- This will close the instance of the file PwSkills.txt stored."
      ]
    },
    {
      "cell_type": "markdown",
      "metadata": {
        "id": "51VhJCNcJFof"
      },
      "source": [
        "- Here is the result after the execution of code.\n",
        "<img src=\".\\Images\\8.png\">"
      ]
    },
    {
      "cell_type": "markdown",
      "metadata": {
        "id": "ab7fXnrzJFog"
      },
      "source": [
        "### Append data to a file\n",
        "\n",
        "You can also append a new text inside the existing file or in a new file."
      ]
    },
    {
      "cell_type": "code",
      "execution_count": null,
      "metadata": {
        "id": "neAko5mCJFoh"
      },
      "outputs": [],
      "source": [
        "#Step1\n",
        "\n",
        "file = open(\"PwSkills.txt\", \"a+\")"
      ]
    },
    {
      "cell_type": "markdown",
      "metadata": {
        "id": "dDqwN0C8JFon"
      },
      "source": [
        "Once again \"+\" sign is in the code which means if .txt file are not available, this plus sign will create a new file but here is not any requirement to create a new file."
      ]
    },
    {
      "cell_type": "code",
      "execution_count": null,
      "metadata": {
        "id": "Sd6xqwsaJFoo"
      },
      "outputs": [],
      "source": [
        "#Step2\n",
        "\n",
        "for i in range(3):\n",
        "    file.write(\"Appending Line number %d\\r\\n\" %(i+1))"
      ]
    },
    {
      "cell_type": "markdown",
      "metadata": {
        "id": "-pCjkwMTJFos"
      },
      "source": [
        "This will write data into a file in append mode."
      ]
    },
    {
      "cell_type": "code",
      "execution_count": null,
      "metadata": {
        "id": "R9AfPxUSJFot"
      },
      "outputs": [],
      "source": [
        "#Step3\n",
        "\n",
        "file.close()"
      ]
    },
    {
      "cell_type": "markdown",
      "metadata": {
        "id": "qrjwiS-3JFoz"
      },
      "source": [
        "We seen earlier this close function will close the instance of the file PwSkills.txt stored."
      ]
    },
    {
      "cell_type": "markdown",
      "metadata": {
        "id": "8eggYmBhJFo0"
      },
      "source": [
        "### Read the files\n",
        "\n",
        "Not only you create .txt files in Python but you can also call .txt file in a \"read mode\"(r)."
      ]
    },
    {
      "cell_type": "code",
      "execution_count": null,
      "metadata": {
        "id": "NIXdViShJFo2"
      },
      "outputs": [],
      "source": [
        "#Step1. Open the file in read mode\n",
        "\n",
        "file = open(\"PwSkills.txt\", \"r\")"
      ]
    },
    {
      "cell_type": "code",
      "execution_count": null,
      "metadata": {
        "id": "pnItli4dJFo8"
      },
      "outputs": [],
      "source": [
        "#Step2. Here we'll check, is our file is open or not, if yes we proceed\n",
        "\n",
        "if file.mode == 'r':\n",
        "    content = file.read() #We used file.read() for reading the file data and store it in a variable."
      ]
    },
    {
      "cell_type": "code",
      "execution_count": null,
      "metadata": {
        "colab": {
          "base_uri": "https://localhost:8080/"
        },
        "id": "4wXxT-0VJFpB",
        "outputId": "48aa26cf-47f9-4b6f-b880-f00a7350eff4"
      },
      "outputs": [
        {
          "output_type": "stream",
          "name": "stdout",
          "text": [
            "Line number is 1\n",
            "Line number is 2\n",
            "Line number is 3\n",
            "Line number is 4\n",
            "Line number is 5\n",
            "Appending Line number 1\n",
            "Appending Line number 2\n",
            "Appending Line number 3\n",
            "\n",
            "Here is the output!\n"
          ]
        }
      ],
      "source": [
        "#Step3. Printing the file\n",
        "print(content)\n",
        "print(\"Here is the output!\")"
      ]
    },
    {
      "cell_type": "markdown",
      "metadata": {
        "id": "AlPiVcIdJFpO"
      },
      "source": [
        "# Text Preprocessing\n",
        "\n",
        "Supose we have textual data available, we need to apply many of pre-processing steps to the data to transform those words into numerical features that work with machine learning algorithms.\n",
        "\n",
        "The pre-processing steps for the problem depend mainly on the domain and the problem itself.We don't need to apply all the steps for every problem.\n",
        "\n",
        "Here, we're going to see text preprocessing in Python. We'll use NLTK(Natural language toolkit) library here."
      ]
    },
    {
      "cell_type": "code",
      "execution_count": null,
      "metadata": {
        "id": "K4JGBS1TJFpP"
      },
      "outputs": [],
      "source": [
        "# import necessary libraries\n",
        "import nltk\n",
        "import string\n",
        "import re"
      ]
    },
    {
      "cell_type": "markdown",
      "metadata": {
        "id": "FdD68bHhJFpT"
      },
      "source": [
        "### Text lowercase\n",
        "\n",
        "We do lowercase the text to reduce the size of the vocabulary of our text data."
      ]
    },
    {
      "cell_type": "code",
      "execution_count": null,
      "metadata": {
        "colab": {
          "base_uri": "https://localhost:8080/",
          "height": 35
        },
        "id": "YoXbKGUcJFpT",
        "outputId": "69a268d6-bf0b-4cb3-c492-b52ca6a1dfaf",
        "collapsed": true
      },
      "outputs": [
        {
          "output_type": "execute_result",
          "data": {
            "text/plain": [
              "'weather is too cloudy.possiblity of rain is high,today!!'"
            ],
            "application/vnd.google.colaboratory.intrinsic+json": {
              "type": "string"
            }
          },
          "metadata": {},
          "execution_count": 14
        }
      ],
      "source": [
        "def lowercase_text(text):\n",
        "    return text.lower()\n",
        "\n",
        "input_str = \"Weather is too Cloudy.Possiblity of Rain is High,Today!!\"\n",
        "lowercase_text(input_str)"
      ]
    },
    {
      "cell_type": "markdown",
      "metadata": {
        "id": "Kkx5nINIJFpa"
      },
      "source": [
        "### Remove numbers\n",
        "\n",
        "We should either remove the numbers or convert those numbers into textual representations.\n",
        "We use regular expressions(re) to remove the numbers."
      ]
    },
    {
      "cell_type": "code",
      "execution_count": null,
      "metadata": {
        "colab": {
          "base_uri": "https://localhost:8080/",
          "height": 35
        },
        "id": "rJxsrbYcJFpc",
        "outputId": "0fb302b7-13d3-49ae-8051-f980b84c5c48",
        "collapsed": true
      },
      "outputs": [
        {
          "output_type": "execute_result",
          "data": {
            "text/plain": [
              "'You bought 6 candies from shop ***** , and 4 candies are in home.'"
            ],
            "application/vnd.google.colaboratory.intrinsic+json": {
              "type": "string"
            }
          },
          "metadata": {},
          "execution_count": 45
        }
      ],
      "source": [
        "# For Removing numbers\n",
        "def remove_num(text):\n",
        "    result = re.sub(r'\\w+@\\w+\\.com', '*****', text)\n",
        "    result = re.sub(r'\\d+{10}', '*****', text)\n",
        "    return result\n",
        "\n",
        "input_s = \"You bought 6 candies from shop deep@hotmail.com , and 4 candies are in home.\"\n",
        "remove_num(input_s)"
      ]
    },
    {
      "cell_type": "markdown",
      "metadata": {
        "id": "A2dGfGX2JFpg"
      },
      "source": [
        "As we mentioned above,you can also convert the numbers into words. This could be done by using the inflect library."
      ]
    },
    {
      "cell_type": "code",
      "execution_count": null,
      "metadata": {
        "colab": {
          "base_uri": "https://localhost:8080/",
          "height": 35
        },
        "id": "VafdwS3cJFph",
        "outputId": "ef683ecf-f010-4795-8294-576abdfeb2dc",
        "collapsed": true
      },
      "outputs": [
        {
          "output_type": "execute_result",
          "data": {
            "text/plain": [
              "'You bought six candies from shop, and four candies are in home.'"
            ],
            "application/vnd.google.colaboratory.intrinsic+json": {
              "type": "string"
            }
          },
          "metadata": {},
          "execution_count": 22
        }
      ],
      "source": [
        "# import the library\n",
        "import inflect\n",
        "q = inflect.engine()\n",
        "\n",
        "# convert number into text\n",
        "def convert_num(text):\n",
        "    # split strings into list of texts\n",
        "    temp_string = text.split()\n",
        "    # initialise empty list\n",
        "    new_str = []\n",
        "\n",
        "    for word in temp_string:\n",
        "        # if text is a digit, convert the digit\n",
        "        # to numbers and append into the new_str list\n",
        "        if word.isdigit():\n",
        "            temp = q.number_to_words(word)\n",
        "            new_str.append(temp)\n",
        "\n",
        "        # append the texts as it is\n",
        "        else:\n",
        "            new_str.append(word)\n",
        "\n",
        "    # join the texts of new_str to form a string\n",
        "    temp_str = ' '.join(new_str)\n",
        "    return temp_str\n",
        "\n",
        "input_str = 'You bought 6 candies from shop, and 4 candies are in home.'\n",
        "convert_num(input_str)"
      ]
    },
    {
      "cell_type": "markdown",
      "metadata": {
        "id": "506D4NxOJFpk"
      },
      "source": [
        "### Remove Punctuation\n",
        "\n",
        "We remove punctuations because of that we don't have different form of the same word. If we don't remove punctuations, then been, been, and been! will be treated separately."
      ]
    },
    {
      "cell_type": "code",
      "execution_count": null,
      "metadata": {
        "colab": {
          "base_uri": "https://localhost:8080/",
          "height": 35
        },
        "id": "5B5eCetpJFpl",
        "outputId": "fffe4b30-a92d-46de-d9a5-ea3fc5a695cc",
        "collapsed": true
      },
      "outputs": [
        {
          "output_type": "execute_result",
          "data": {
            "text/plain": [
              "'Hey Are you excited After a week we will be in Shimla'"
            ],
            "application/vnd.google.colaboratory.intrinsic+json": {
              "type": "string"
            }
          },
          "metadata": {},
          "execution_count": 24
        }
      ],
      "source": [
        "# let's remove punctuation\n",
        "def rem_punct(text):\n",
        "    translator = str.maketrans('', '', string.punctuation)\n",
        "    return text.translate(translator)\n",
        "# last parameters string.punctuation A string describing which characters to remove from the original string\n",
        "input_str = \"Hey, Are you excited??, After a week, we will be in Shimla!!!\"\n",
        "rem_punct(input_str)"
      ]
    },
    {
      "cell_type": "code",
      "source": [
        "string.punctuation"
      ],
      "metadata": {
        "colab": {
          "base_uri": "https://localhost:8080/",
          "height": 35
        },
        "id": "B07hFhDZsPwb",
        "outputId": "da769750-0eb1-42e6-905b-5cc33818c85f"
      },
      "execution_count": null,
      "outputs": [
        {
          "output_type": "execute_result",
          "data": {
            "text/plain": [
              "'!\"#$%&\\'()*+,-./:;<=>?@[\\\\]^_`{|}~'"
            ],
            "application/vnd.google.colaboratory.intrinsic+json": {
              "type": "string"
            }
          },
          "metadata": {},
          "execution_count": 23
        }
      ]
    },
    {
      "cell_type": "code",
      "source": [
        "import string"
      ],
      "metadata": {
        "id": "QhpsXTHZvgSA"
      },
      "execution_count": null,
      "outputs": []
    },
    {
      "cell_type": "code",
      "source": [
        "result = string.punctuation"
      ],
      "metadata": {
        "id": "3NGzRbJcvj7Y"
      },
      "execution_count": null,
      "outputs": []
    },
    {
      "cell_type": "code",
      "source": [
        "print(result)"
      ],
      "metadata": {
        "colab": {
          "base_uri": "https://localhost:8080/"
        },
        "id": "rwRsHMMcvl9U",
        "outputId": "bfde34c9-10ab-4a0a-96a2-8257d5b4d232",
        "collapsed": true
      },
      "execution_count": null,
      "outputs": [
        {
          "output_type": "stream",
          "name": "stdout",
          "text": [
            "!\"#$%&'()*+,-./:;<=>?@[\\]^_`{|}~\n"
          ]
        }
      ]
    },
    {
      "cell_type": "markdown",
      "metadata": {
        "id": "tRBPHRjSJFp8"
      },
      "source": [
        "### Chunking\n",
        "\n",
        "Chunking is the process of extracting phrases from the Unstructured text and give them more structure to it. We also called them shallow parsing.We can do it on top of pos tagging. It groups words into chunks mainly for noun phrases. chunking we do by using regular expression."
      ]
    },
    {
      "cell_type": "markdown",
      "source": [
        "In natural language processing (NLP), chunking is a technique that breaks down large amounts of text into smaller, more manageable chunks. This makes it easier to process and analyze large volumes of data"
      ],
      "metadata": {
        "id": "h5dccBCQwvw5"
      }
    },
    {
      "cell_type": "code",
      "execution_count": null,
      "metadata": {
        "colab": {
          "base_uri": "https://localhost:8080/"
        },
        "id": "lzLmybEuJFp8",
        "outputId": "880d9aae-4d00-4b0e-8129-ffdaf266f410"
      },
      "outputs": [
        {
          "output_type": "stream",
          "name": "stderr",
          "text": [
            "[nltk_data] Downloading package punkt to /root/nltk_data...\n",
            "[nltk_data]   Unzipping tokenizers/punkt.zip.\n",
            "[nltk_data] Downloading package averaged_perceptron_tagger to\n",
            "[nltk_data]     /root/nltk_data...\n",
            "[nltk_data]   Unzipping taggers/averaged_perceptron_tagger.zip.\n"
          ]
        },
        {
          "output_type": "stream",
          "name": "stdout",
          "text": [
            "(S\n",
            "  (NP the/DT little/JJ red/JJ parrot/NN)\n",
            "  is/VBZ\n",
            "  flying/VBG\n",
            "  in/IN\n",
            "  (NP the/DT sky/NN))\n",
            "(NP the/DT little/JJ red/JJ parrot/NN)\n",
            "(NP the/DT sky/NN)\n"
          ]
        }
      ],
      "source": [
        "#importing libraries\n",
        "from nltk.tokenize import word_tokenize\n",
        "from nltk import pos_tag\n",
        "import nltk\n",
        "nltk.download('punkt')\n",
        "nltk.download('averaged_perceptron_tagger')\n",
        "\n",
        "# here we define chunking function with text and regular\n",
        "# expressions representing grammar as parameter\n",
        "def chunking(text, grammar):\n",
        "    word_tokens = word_tokenize(text)\n",
        "\n",
        "    # label words with pos\n",
        "    word_pos = pos_tag(word_tokens)\n",
        "\n",
        "    # create chunk parser using grammar\n",
        "    chunkParser = nltk.RegexpParser(grammar)\n",
        "\n",
        "    # test it on the list of word tokens with tagged pos\n",
        "    tree = chunkParser.parse(word_pos)\n",
        "\n",
        "    for subtree in tree.subtrees():\n",
        "        print(subtree)\n",
        "    #tree.draw()\n",
        "\n",
        "sentence = 'the little red parrot is flying in the sky'\n",
        "grammar = \"NP: {<DT>?<JJ>*<NN>}\"\n",
        "chunking(sentence, grammar)"
      ]
    },
    {
      "cell_type": "markdown",
      "metadata": {
        "id": "RYT9PqpwJFqA"
      },
      "source": [
        "In the above example, we defined the grammar by using the regular expression rule. This rule tells you that NP(noun phrase) chunk should be formed whenever the chunker find the optional determiner(DJ) followed by any no. of adjectives and then a NN(noun).\n",
        "\n",
        "Image after running above code.\n",
        "<img src=\".\\Images\\11.png\">\n",
        "\n",
        "Libraries like Spacy and TextBlob are best for chunking."
      ]
    },
    {
      "cell_type": "markdown",
      "metadata": {
        "id": "BhQPEBIbJFq4"
      },
      "source": [
        "# Text normalization\n",
        "\n",
        "In the text pre-processing highly overlooked step is text normalization. The text normalization means the process of transforming the text into the canonical(or standard) form. Like, \"ok\" and \"k\" can be transformed to \"okay\", its canonical form.And another example is mapping of near identical words such as \"preprocessing\", \"pre-processing\" and \"pre processing\" to just \"preprocessing\".\n",
        "\n",
        "Text normaliztion is too useful for noisy textssuch as social media comments, comment to blog posts, text messages, where abbreviations, misspellings, and the use out-of-vocabulary(oov) are prevalent.\n",
        "\n",
        "\n",
        "\n",
        "### Effects of normalization\n",
        "\n",
        "Text normalization has even been effective for analyzing highly unstructured clinical texts where physicians take notes in non-standard ways. We have also found it useful for topic extraction where near synonyms and spelling differences are common (like 'topic modelling', 'topic modeling', 'topic-modeling', 'topic-modelling').\n",
        "\n",
        "Unlike stemming and lemmatization, there is not a standard way to normalize texts. It typically depends on the task. For e.g, the way you would normalize clinical texts would arguably be different from how you normalize text messages.\n",
        "\n",
        "Some of the common approaches to text normalization include dictionary mappings, statistical machine translation (SMT) and spelling-correction based approaches."
      ]
    },
    {
      "cell_type": "markdown",
      "source": [
        "**Text normalization is the process of converting unstructured text into a standard or \"canonical\" form. It is useful when different versions of the same word appear in the text, or there are typos, abbreviations, and non-standard spellings. This ensures consistency and improves the performance of NLP models.**"
      ],
      "metadata": {
        "id": "g4bNquPM2E0G"
      }
    },
    {
      "cell_type": "markdown",
      "source": [
        "![image.png](data:image/png;base64,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)"
      ],
      "metadata": {
        "id": "EvQ7tP722dMe"
      }
    },
    {
      "cell_type": "markdown",
      "source": [
        "**Text normalization common techniques**\n",
        "\n",
        "1. Lowercasing\n",
        "2. Removing Punctuation\n",
        "3. Tokenization\n",
        "4. Spelling Correction\n",
        "5. Lemmatization\n",
        "6. Stemming\n",
        "7. Removing Stop Words\n",
        "8. Custom Regular Expressions\n"
      ],
      "metadata": {
        "id": "a9tYfRcA23hH"
      }
    },
    {
      "cell_type": "markdown",
      "metadata": {
        "id": "o5JAXa2kJFq6"
      },
      "source": [
        "# Word Count\n",
        "\n",
        "I am assuming you have the understanding of tokenization,the first figure we can calculate is the word frequency.By *word frequency* we can find out how many times each tokens appear in the text. When talking about word frequency, we distinguished between *types* and *tokens*.Types are the distinct words in a corpus, whereas tokens are the words, including repeats. Let's see how this works in practice.\n",
        "\n",
        "Let's take an example for better understanding:\n",
        "\n",
        "“There is no need to panic. We need to work together, take small yet important measures to ensure self-protection,” the Prime Minister tweeted.\n",
        "\n",
        "How many tokens and types are there in above sentences?\n",
        "\n",
        "Let's use Python for calculating these figures. First, tokenize the sentence by using the tokenizer which uses the non-alphabetic characters as a separator."
      ]
    },
    {
      "cell_type": "code",
      "execution_count": null,
      "metadata": {
        "id": "0hCsVsvmJFq8"
      },
      "outputs": [],
      "source": [
        "from nltk.tokenize.regexp import WhitespaceTokenizer\n",
        "m = \"'There is no need to panic. We need to work together, take small yet important measures to ensure self-protection,' the Prime Minister tweeted.\""
      ]
    },
    {
      "cell_type": "markdown",
      "metadata": {
        "id": "WOTpqJfwJFrG"
      },
      "source": [
        "Note in the above we had used a slightly different syntax for importing the module. You'll recognize by now the variable assignment."
      ]
    },
    {
      "cell_type": "code",
      "execution_count": null,
      "metadata": {
        "colab": {
          "base_uri": "https://localhost:8080/"
        },
        "id": "4G1dj6KxJFrH",
        "outputId": "8b2ce1a4-68c8-4560-d375-c68bd7ccc3de"
      },
      "outputs": [
        {
          "output_type": "stream",
          "name": "stdout",
          "text": [
            "23\n"
          ]
        }
      ],
      "source": [
        "tokens = WhitespaceTokenizer().tokenize(m)\n",
        "print(len(tokens))"
      ]
    },
    {
      "cell_type": "code",
      "execution_count": null,
      "metadata": {
        "colab": {
          "base_uri": "https://localhost:8080/"
        },
        "id": "_3UJdOSZK4Ny",
        "outputId": "7fd28a7d-5cff-4910-f010-7137e216021c"
      },
      "outputs": [
        {
          "output_type": "execute_result",
          "data": {
            "text/plain": [
              "[\"'There\",\n",
              " 'is',\n",
              " 'no',\n",
              " 'need',\n",
              " 'to',\n",
              " 'panic.',\n",
              " 'We',\n",
              " 'need',\n",
              " 'to',\n",
              " 'work',\n",
              " 'together,',\n",
              " 'take',\n",
              " 'small',\n",
              " 'yet',\n",
              " 'important',\n",
              " 'measures',\n",
              " 'to',\n",
              " 'ensure',\n",
              " \"self-protection,'\",\n",
              " 'the',\n",
              " 'Prime',\n",
              " 'Minister',\n",
              " 'tweeted.']"
            ]
          },
          "metadata": {},
          "execution_count": 27
        }
      ],
      "source": [
        "tokens"
      ]
    },
    {
      "cell_type": "code",
      "execution_count": null,
      "metadata": {
        "colab": {
          "base_uri": "https://localhost:8080/"
        },
        "id": "2bWUD3u9JFrM",
        "outputId": "7d80eaa5-1c83-4fb1-e4c7-d5f05d894ca9"
      },
      "outputs": [
        {
          "output_type": "stream",
          "name": "stdout",
          "text": [
            "20\n"
          ]
        }
      ],
      "source": [
        "my_vocab = set(tokens)\n",
        "print(len(my_vocab))"
      ]
    },
    {
      "cell_type": "code",
      "execution_count": null,
      "metadata": {
        "colab": {
          "base_uri": "https://localhost:8080/"
        },
        "id": "-5ZjzPilLB5K",
        "outputId": "f6f324cf-0206-4258-b768-91986edffa99"
      },
      "outputs": [
        {
          "output_type": "execute_result",
          "data": {
            "text/plain": [
              "{\"'There\",\n",
              " 'Minister',\n",
              " 'Prime',\n",
              " 'We',\n",
              " 'ensure',\n",
              " 'important',\n",
              " 'is',\n",
              " 'measures',\n",
              " 'need',\n",
              " 'no',\n",
              " 'panic.',\n",
              " \"self-protection,'\",\n",
              " 'small',\n",
              " 'take',\n",
              " 'the',\n",
              " 'to',\n",
              " 'together,',\n",
              " 'tweeted.',\n",
              " 'work',\n",
              " 'yet'}"
            ]
          },
          "metadata": {},
          "execution_count": 29
        }
      ],
      "source": [
        "my_vocab"
      ]
    },
    {
      "cell_type": "markdown",
      "metadata": {
        "id": "9JvxHE1AJFrY"
      },
      "source": [
        "Now we are going to perform the same operation but with the different tokenizer."
      ]
    },
    {
      "cell_type": "code",
      "execution_count": null,
      "metadata": {
        "id": "mnKq15I9JFrZ"
      },
      "outputs": [],
      "source": [
        "my_st = \"'There is no need to panic. We need to work together, take small yet important measures to ensure self-protection,' the Prime Minister tweeted.\""
      ]
    },
    {
      "cell_type": "markdown",
      "metadata": {
        "id": "NcKmcRMIJFre"
      },
      "source": [
        "We'll import different tokenizer:"
      ]
    },
    {
      "cell_type": "code",
      "execution_count": null,
      "metadata": {
        "id": "43GUD6oFJFre"
      },
      "outputs": [],
      "source": [
        "from nltk.tokenize.regexp import WordPunctTokenizer"
      ]
    },
    {
      "cell_type": "markdown",
      "metadata": {
        "id": "_vgFr9PCJFr_"
      },
      "source": [
        "Above tokenizer also split the words into tokens:"
      ]
    },
    {
      "cell_type": "code",
      "execution_count": null,
      "metadata": {
        "colab": {
          "base_uri": "https://localhost:8080/"
        },
        "id": "b4icabaCJFsA",
        "outputId": "7cc01805-6252-4d0c-f1fa-fc00ddae663d"
      },
      "outputs": [
        {
          "output_type": "stream",
          "name": "stdout",
          "text": [
            "30\n"
          ]
        }
      ],
      "source": [
        "m_t = WordPunctTokenizer().tokenize(my_st)\n",
        "\n",
        "print(len(m_t))"
      ]
    },
    {
      "cell_type": "code",
      "execution_count": null,
      "metadata": {
        "colab": {
          "base_uri": "https://localhost:8080/"
        },
        "id": "jQ-xXrPjLO-N",
        "outputId": "8c786a42-3d92-4b00-8b95-6808578b505c"
      },
      "outputs": [
        {
          "output_type": "execute_result",
          "data": {
            "text/plain": [
              "[\"'\",\n",
              " 'There',\n",
              " 'is',\n",
              " 'no',\n",
              " 'need',\n",
              " 'to',\n",
              " 'panic',\n",
              " '.',\n",
              " 'We',\n",
              " 'need',\n",
              " 'to',\n",
              " 'work',\n",
              " 'together',\n",
              " ',',\n",
              " 'take',\n",
              " 'small',\n",
              " 'yet',\n",
              " 'important',\n",
              " 'measures',\n",
              " 'to',\n",
              " 'ensure',\n",
              " 'self',\n",
              " '-',\n",
              " 'protection',\n",
              " \",'\",\n",
              " 'the',\n",
              " 'Prime',\n",
              " 'Minister',\n",
              " 'tweeted',\n",
              " '.']"
            ]
          },
          "metadata": {},
          "execution_count": 35
        }
      ],
      "source": [
        "m_t"
      ]
    },
    {
      "cell_type": "code",
      "execution_count": null,
      "metadata": {
        "colab": {
          "base_uri": "https://localhost:8080/"
        },
        "id": "0BV3-8s6JFsF",
        "outputId": "d8de1e2c-adc3-46b7-c35c-ff48b7304c2e"
      },
      "outputs": [
        {
          "output_type": "stream",
          "name": "stdout",
          "text": [
            "26\n"
          ]
        }
      ],
      "source": [
        "my_vocab = set(m_t)\n",
        "print(len(my_vocab))"
      ]
    },
    {
      "cell_type": "code",
      "execution_count": null,
      "metadata": {
        "colab": {
          "base_uri": "https://localhost:8080/"
        },
        "id": "r68Ukj1NLWGC",
        "outputId": "022748d4-bbbc-4fc3-cd34-6f33b64c50e0"
      },
      "outputs": [
        {
          "output_type": "execute_result",
          "data": {
            "text/plain": [
              "{\"'\",\n",
              " ',',\n",
              " \",'\",\n",
              " '-',\n",
              " '.',\n",
              " 'Minister',\n",
              " 'Prime',\n",
              " 'There',\n",
              " 'We',\n",
              " 'ensure',\n",
              " 'important',\n",
              " 'is',\n",
              " 'measures',\n",
              " 'need',\n",
              " 'no',\n",
              " 'panic',\n",
              " 'protection',\n",
              " 'self',\n",
              " 'small',\n",
              " 'take',\n",
              " 'the',\n",
              " 'to',\n",
              " 'together',\n",
              " 'tweeted',\n",
              " 'work',\n",
              " 'yet'}"
            ]
          },
          "metadata": {},
          "execution_count": 37
        }
      ],
      "source": [
        "my_vocab\n"
      ]
    },
    {
      "cell_type": "markdown",
      "metadata": {
        "id": "b0gQRrsrJFsQ"
      },
      "source": [
        "What is the difference between the above approaches? In the first one, vocabulary ends up containing \"words\" and \"words.\" as two distinct words; whereas in second example \"words\" is a token type and \".\" (i.e. the dot) is split into a separate token and this results into a new token type in addition to \"words\"."
      ]
    },
    {
      "cell_type": "code",
      "execution_count": null,
      "metadata": {
        "id": "2mxx4rd7JFsR"
      },
      "outputs": [],
      "source": []
    },
    {
      "cell_type": "markdown",
      "metadata": {
        "id": "PLpduZLSJFsU"
      },
      "source": [
        "# Frequency distribution\n",
        "\n",
        "What is Frequency distribution? This is basically counting words in your texts.To give a brief example of how it works,"
      ]
    },
    {
      "cell_type": "code",
      "execution_count": null,
      "metadata": {
        "colab": {
          "base_uri": "https://localhost:8080/"
        },
        "id": "AQCKvtd1JFsV",
        "outputId": "03fdca81-ee3c-467a-bae2-f8ad1b706dbd"
      },
      "outputs": [
        {
          "output_type": "stream",
          "name": "stderr",
          "text": [
            "[nltk_data] Downloading package gutenberg to /root/nltk_data...\n",
            "[nltk_data]   Unzipping corpora/gutenberg.zip.\n",
            "[nltk_data] Downloading package punkt to /root/nltk_data...\n",
            "[nltk_data]   Unzipping tokenizers/punkt.zip.\n"
          ]
        },
        {
          "output_type": "stream",
          "name": "stdout",
          "text": [
            "\n",
            "\n",
            "\n",
            "\n",
            "<FreqDist with 23 samples and 28 outcomes>\n"
          ]
        }
      ],
      "source": [
        "#from nltk.book import *\n",
        "import nltk\n",
        "nltk.download('gutenberg')\n",
        "nltk.download('punkt')\n",
        "from nltk.tokenize import word_tokenize\n",
        "print(\"\\n\\n\\n\")\n",
        "text1 = \"'There is no need to panic. We need to work together, take small yet important measures to ensure self-protection,' the Prime Minister tweeted.\"\n",
        "freqDist = nltk.FreqDist(word_tokenize(text1))\n",
        "print(freqDist)"
      ]
    },
    {
      "cell_type": "markdown",
      "metadata": {
        "id": "dWuKVZRuJFsZ"
      },
      "source": [
        "The class **FreqDist** works like a dictionary where keys are the words in the text and the values are count associated with that word. For example, if you want to see how many words \"person\" are in the text, you can type as:"
      ]
    },
    {
      "cell_type": "code",
      "execution_count": null,
      "metadata": {
        "colab": {
          "base_uri": "https://localhost:8080/"
        },
        "id": "BiqNifrRJFsZ",
        "outputId": "d820ae84-f95c-474a-abb2-8c835cf3b132"
      },
      "outputs": [
        {
          "output_type": "stream",
          "name": "stdout",
          "text": [
            "1\n"
          ]
        }
      ],
      "source": [
        "print(freqDist[\"Prime\"])"
      ]
    },
    {
      "cell_type": "markdown",
      "metadata": {
        "id": "Dz7zeFg7JFsh"
      },
      "source": [
        "One of the most important function in **FreqDist** is the **.keys()** function. Let us see what will it give in a below code."
      ]
    },
    {
      "cell_type": "code",
      "execution_count": null,
      "metadata": {
        "colab": {
          "base_uri": "https://localhost:8080/"
        },
        "id": "PnVYQ3n2JFsi",
        "outputId": "d4a556af-5a6a-4fef-8e31-5bee5d641444"
      },
      "outputs": [
        {
          "output_type": "stream",
          "name": "stdout",
          "text": [
            "<class 'dict_keys'>\n"
          ]
        }
      ],
      "source": [
        "words = freqDist.keys()\n",
        "print(type(words))"
      ]
    },
    {
      "cell_type": "markdown",
      "metadata": {
        "id": "oJT-YnW_JFsn"
      },
      "source": [
        "After running above code, it'll give as class 'dict_keys', in the other words, you get a list of all the words in your text."
      ]
    },
    {
      "cell_type": "markdown",
      "metadata": {
        "id": "2GLyn8jPJFsn"
      },
      "source": [
        "And you want to see how many words are there in the text,"
      ]
    },
    {
      "cell_type": "code",
      "execution_count": null,
      "metadata": {
        "colab": {
          "base_uri": "https://localhost:8080/"
        },
        "id": "67rPpn_BJFso",
        "outputId": "c36c34c4-45e0-4ccb-9129-fb377771d269"
      },
      "outputs": [
        {
          "output_type": "stream",
          "name": "stdout",
          "text": [
            "23\n"
          ]
        }
      ],
      "source": [
        "print(len(words))"
      ]
    },
    {
      "cell_type": "markdown",
      "metadata": {
        "id": "fwRAdGZ3JFst"
      },
      "source": [
        "In the class nltk.text.Text function do the same stuff, so what is the difference? The difference is that with FreqDist you can create your own texts without the necessity of converting your text to nltk.text.Text class.\n",
        "\n",
        "And the other usual functon is *plot*. Plot will do like it displays the most used words in your text. So, if you want to see 15 most used words in the text , For example like:"
      ]
    },
    {
      "cell_type": "code",
      "execution_count": null,
      "metadata": {
        "colab": {
          "base_uri": "https://localhost:8080/",
          "height": 521
        },
        "id": "ZZYHUCjCJFsu",
        "outputId": "0a638f9f-5674-45a1-ab60-1607da53f4fc",
        "collapsed": true
      },
      "outputs": [
        {
          "output_type": "display_data",
          "data": {
            "text/plain": [
              "<Figure size 640x480 with 1 Axes>"
            ],
            "image/png": "[encoded data removed]"
          },
          "metadata": {}
        },
        {
          "output_type": "execute_result",
          "data": {
            "text/plain": [
              "<Axes: xlabel='Samples', ylabel='Counts'>"
            ]
          },
          "metadata": {},
          "execution_count": 41
        }
      ],
      "source": [
        "freqDist.plot(15)"
      ]
    },
    {
      "cell_type": "markdown",
      "metadata": {
        "id": "X18QF8fnJFsx"
      },
      "source": [
        "## Personal Frequency Distribution\n",
        "\n",
        "Suppose you want to do frequency distribution based on your own personal text. Let's get started,"
      ]
    },
    {
      "cell_type": "code",
      "execution_count": null,
      "metadata": {
        "colab": {
          "base_uri": "https://localhost:8080/"
        },
        "id": "YC9Y6ypiJFsy",
        "outputId": "e2111aab-a4a5-41a5-d5fa-e89d496bed11"
      },
      "outputs": [
        {
          "output_type": "stream",
          "name": "stdout",
          "text": [
            "2\n"
          ]
        }
      ],
      "source": [
        "from nltk import FreqDist\n",
        "\n",
        "sent = \"'There is no need to panic. We need to work together, take small yet important measures to ensure self-protection,' the Prime Minister tweeted.\"\n",
        "\n",
        "text_list = sent.split(\" \")\n",
        "\n",
        "freqDist = FreqDist(text_list)\n",
        "words = list(freqDist.keys())\n",
        "\n",
        "print(freqDist['need'])"
      ]
    },
    {
      "cell_type": "code",
      "execution_count": null,
      "metadata": {
        "colab": {
          "base_uri": "https://localhost:8080/",
          "height": 560
        },
        "id": "YaDtGT2OMo2u",
        "outputId": "1ba25990-d050-402f-80d0-5266f48c7f49",
        "collapsed": true
      },
      "outputs": [
        {
          "output_type": "display_data",
          "data": {
            "text/plain": [
              "<Figure size 640x480 with 1 Axes>"
            ],
            "image/png": "[encoded data removed]"
          },
          "metadata": {}
        },
        {
          "output_type": "execute_result",
          "data": {
            "text/plain": [
              "<Axes: xlabel='Samples', ylabel='Counts'>"
            ]
          },
          "metadata": {},
          "execution_count": 43
        }
      ],
      "source": [
        "freqDist.plot(20)"
      ]
    },
    {
      "cell_type": "markdown",
      "metadata": {
        "id": "LnN_ncTgJFs2"
      },
      "source": [
        "In the first line, you don't have to import nltk.book to use the FreqDist class.\n",
        "\n",
        "We then declare sent and text_list variables. The variable *sent* is your custom text and the variable text_list is a list that contains all the words of your custom text.You can see that we used sent.split(\" \") to separate the words.\n",
        "\n",
        "Then you have the variable *freqDist* and words. freqDist is an object of the FreqDist class is for the text you have given and words is the list of all keys of freqDist.\n",
        "\n",
        "The last line of code is where you print your results. In this example, your code will print the count of the word “need”.\n",
        "\n",
        "If you replace “need” with “Prime”, you can see that it will return 1 instead of 2. This is because nltk indexing is case-sensitive. To avoid this, you can use the *.lower()* function in the variable text."
      ]
    },
    {
      "cell_type": "code",
      "execution_count": null,
      "metadata": {
        "id": "6Ar6ATbZJFs2"
      },
      "outputs": [],
      "source": []
    }
  ],
  "metadata": {
    "colab": {
      "provenance": [],
      "include_colab_link": true
    },
    "kernelspec": {
      "display_name": "Python 3 (ipykernel)",
      "language": "python",
      "name": "python3"
    },
    "language_info": {
      "codemirror_mode": {
        "name": "ipython",
        "version": 3
      },
      "file_extension": ".py",
      "mimetype": "text/x-python",
      "name": "python",
      "nbconvert_exporter": "python",
      "pygments_lexer": "ipython3",
      "version": "3.9.13"
    },
    "varInspector": {
      "cols": {
        "lenName": 16,
        "lenType": 16,
        "lenVar": 40
      },
      "kernels_config": {
        "python": {
          "delete_cmd_postfix": "",
          "delete_cmd_prefix": "del ",
          "library": "var_list.py",
          "varRefreshCmd": "print(var_dic_list())"
        },
        "r": {
          "delete_cmd_postfix": ") ",
          "delete_cmd_prefix": "rm(",
          "library": "var_list.r",
          "varRefreshCmd": "cat(var_dic_list()) "
        }
      },
      "types_to_exclude": [
        "module",
        "function",
        "builtin_function_or_method",
        "instance",
        "_Feature"
      ],
      "window_display": false
    }
  },
  "nbformat": 4,
  "nbformat_minor": 0
}